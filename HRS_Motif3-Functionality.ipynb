{
 "cells": [
  {
   "cell_type": "code",
   "execution_count": 1,
   "metadata": {
    "collapsed": true
   },
   "outputs": [],
   "source": [
    "import sage.logic.propcalc as pc\n",
    "import itertools as it\n",
    "import numpy.random as rn\n",
    "from sage.plot.histogram import Histogram\n",
    "import numpy as np"
   ]
  },
  {
   "cell_type": "code",
   "execution_count": 2,
   "metadata": {
    "collapsed": true
   },
   "outputs": [],
   "source": [
    "# Define the Boolean Rules\n",
    "Rules = \"\"\"E2F1 *= (~pRB & E2F1) | (~pRB & Myc)\n",
    "CyclinD1 *= (~p21 & Myc) | (~pRB & Myc & E2F1) | (~p21 & E2F1) | (~pRB & E2F1 & CyclinD1)\n",
    "p21 *= ~CyclinE\n",
    "Myc *= ~pRB & E2F1\n",
    "CyclinE *= ~pRB & ~p27Kip1 & E2F1\n",
    "pRB *= (p27Kip1 & ~CyclinD1) | (~CyclinE & ~CyclinD1)\n",
    "p27Kip1 *= ~CyclinE & ~CyclinD1\"\"\""
   ]
  },
  {
   "cell_type": "code",
   "execution_count": 3,
   "metadata": {
    "collapsed": false
   },
   "outputs": [
    {
     "name": "stdout",
     "output_type": "stream",
     "text": [
      "E2F1 *= (~pRB&E2F1)|(~pRB&Myc)\n",
      "CyclinE *= ~pRB&~p27Kip1&E2F1\n",
      "pRB *= (p27Kip1&~CyclinD1)|(~CyclinE&~CyclinD1)\n",
      "p27Kip1 *= ~CyclinE&~CyclinD1\n",
      "p21 *= ~CyclinE\n",
      "CyclinD1 *= (~p21&Myc)|(~pRB&Myc&E2F1)|(~p21&E2F1)|(~pRB&E2F1&CyclinD1)\n",
      "Myc *= ~pRB&E2F1\n"
     ]
    }
   ],
   "source": [
    "# Parse the Boolean Rules\n",
    "rdict = {}\n",
    "for line in Rules.split('\\n'):\n",
    "    lr = line.split('*=')\n",
    "    rdict[lr[0].strip()] = pc.formula(lr[1])\n",
    "    \n",
    "for r in rdict: print r, \"*=\", rdict[r]"
   ]
  },
  {
   "cell_type": "code",
   "execution_count": 4,
   "metadata": {
    "collapsed": true
   },
   "outputs": [],
   "source": [
    "# Convert the rules to Hill kinetics rate functions\n",
    "x={r:var('x_'+r) for r in rdict}\n",
    "RF = {}\n",
    "for r in rdict:\n",
    "    k = {}\n",
    "    n = {}\n",
    "    H = {}\n",
    "    \n",
    "    RF[r] = -x[r]\n",
    "    \n",
    "    varnames = str(rdict[r].truthtable(end=0)).split()[0:-1]\n",
    "    \n",
    "    for ncomb in range(len(varnames)+1):\n",
    "        for comb in it.combinations(varnames,ncomb):\n",
    "            st = {v: v in list(comb) for v in varnames}\n",
    "            hprod = 0\n",
    "            if rdict[r].evaluate(st):           \n",
    "                hprod = 1\n",
    "                for v in varnames:\n",
    "                    rv = r + '_' + v\n",
    "                    k[rv] = var('k_' + rv)\n",
    "                    n[rv] = var('n_' + rv)\n",
    "                    \n",
    "                    if st[v]:\n",
    "                        hprod *= x[v]^n[rv] / (k[rv]^n[rv] + x[v]^n[rv])\n",
    "                    else:\n",
    "                        hprod *= k[rv]^n[rv] / (k[rv]^n[rv] + x[v]^n[rv])\n",
    "            RF[r] += hprod\n",
    "    RF[r] = ((RF[r]+x[r]).numerator()/(RF[r]+x[r]).denominator()) - x[r]"
   ]
  },
  {
   "cell_type": "code",
   "execution_count": 5,
   "metadata": {
    "collapsed": true
   },
   "outputs": [],
   "source": [
    "# Function to help obtain the \"worst case system\" of Rozum & Albert 2018 (PLOS Comp. Bio)\n",
    "# Given v and lists vmin and vmax, returns the rate function for v with the variables in vmin set to zero\n",
    "# and variables in vmax set to infinity\n",
    "def wcRF(v, vmin, vmax):\n",
    "    vmin = set([x[vmx] for vmx in vmin])\n",
    "    vmax = set([x[vmx] for vmx in vmax])\n",
    "    mn1 = 0\n",
    "    md1 = 0\n",
    "    \n",
    "    if (RF[v]+x[v]).numerator().operator() == sage.symbolic.operators.mul_vararg:\n",
    "        numerTerms = [(RF[v]+x[v]).numerator()]\n",
    "    else:\n",
    "        numerTerms = (RF[v]+x[v]).numerator().operands()\n",
    "    \n",
    "    for t in numerTerms:\n",
    "        if vmin.isdisjoint(set(t.args())) and vmax.issubset(set(t.args())):\n",
    "            for vmx in vmax:\n",
    "                t = t.subs(vmx == 1)\n",
    "            mn1 += t\n",
    "    for t in (RF[v]+x[v]).denominator().expand().operands():\n",
    "        for vmx in vmin:\n",
    "            t = t.subs(vmx == 0)\n",
    "        if vmax.issubset(set(t.args())):\n",
    "            for vmx in vmax:\n",
    "                t = t.subs(vmx == 1)\n",
    "            md1 += t\n",
    "    #for t in (RF[v]+x[v]).denominator().operands():\n",
    "    #    if vmax.isdisjoint(set(t.args())):\n",
    "    #        md1 *= t\n",
    "    return simplify(mn1/md1 - x[v])"
   ]
  },
  {
   "cell_type": "code",
   "execution_count": 7,
   "metadata": {
    "collapsed": true
   },
   "outputs": [],
   "source": [
    "# The worst case system for this motif\n",
    "wcCycD=wcRF(\"CyclinD1\",[],[\"Myc\",\"E2F1\"])\n",
    "wcpRB=wcRF(\"pRB\",[\"p27Kip1\"],[])\n",
    "wcCycE=wcRF(\"CyclinE\",[\"p27Kip1\"],[\"E2F1\"])\n",
    "wcp21=RF[\"p21\"]"
   ]
  },
  {
   "cell_type": "code",
   "execution_count": 8,
   "metadata": {
    "collapsed": false
   },
   "outputs": [
    {
     "data": {
      "text/html": [
       "<html><script type=\"math/tex; mode=display\">\\newcommand{\\Bold}[1]{\\mathbf{#1}}-x_{\\mathit{CyclinD}_{1}} + \\frac{k_{\\mathit{CyclinD1}_{\\mathit{CyclinD}_{1}}}^{n_{\\mathit{CyclinD1}_{\\mathit{CyclinD}_{1}}}} k_{\\mathit{CyclinD1}_{p_{21}}}^{n_{\\mathit{CyclinD1}_{p_{21}}}} k_{\\mathit{CyclinD1}_{\\mathit{pRB}}}^{n_{\\mathit{CyclinD1}_{\\mathit{pRB}}}} + k_{\\mathit{CyclinD1}_{p_{21}}}^{n_{\\mathit{CyclinD1}_{p_{21}}}} k_{\\mathit{CyclinD1}_{\\mathit{pRB}}}^{n_{\\mathit{CyclinD1}_{\\mathit{pRB}}}} x_{\\mathit{CyclinD}_{1}}^{n_{\\mathit{CyclinD1}_{\\mathit{CyclinD}_{1}}}} + k_{\\mathit{CyclinD1}_{\\mathit{CyclinD}_{1}}}^{n_{\\mathit{CyclinD1}_{\\mathit{CyclinD}_{1}}}} k_{\\mathit{CyclinD1}_{\\mathit{pRB}}}^{n_{\\mathit{CyclinD1}_{\\mathit{pRB}}}} x_{p_{21}}^{n_{\\mathit{CyclinD1}_{p_{21}}}} + k_{\\mathit{CyclinD1}_{\\mathit{pRB}}}^{n_{\\mathit{CyclinD1}_{\\mathit{pRB}}}} x_{\\mathit{CyclinD}_{1}}^{n_{\\mathit{CyclinD1}_{\\mathit{CyclinD}_{1}}}} x_{p_{21}}^{n_{\\mathit{CyclinD1}_{p_{21}}}} + k_{\\mathit{CyclinD1}_{\\mathit{CyclinD}_{1}}}^{n_{\\mathit{CyclinD1}_{\\mathit{CyclinD}_{1}}}} k_{\\mathit{CyclinD1}_{p_{21}}}^{n_{\\mathit{CyclinD1}_{p_{21}}}} x_{\\mathit{pRB}}^{n_{\\mathit{CyclinD1}_{\\mathit{pRB}}}} + k_{\\mathit{CyclinD1}_{p_{21}}}^{n_{\\mathit{CyclinD1}_{p_{21}}}} x_{\\mathit{CyclinD}_{1}}^{n_{\\mathit{CyclinD1}_{\\mathit{CyclinD}_{1}}}} x_{\\mathit{pRB}}^{n_{\\mathit{CyclinD1}_{\\mathit{pRB}}}}}{k_{\\mathit{CyclinD1}_{\\mathit{CyclinD}_{1}}}^{n_{\\mathit{CyclinD1}_{\\mathit{CyclinD}_{1}}}} k_{\\mathit{CyclinD1}_{p_{21}}}^{n_{\\mathit{CyclinD1}_{p_{21}}}} k_{\\mathit{CyclinD1}_{\\mathit{pRB}}}^{n_{\\mathit{CyclinD1}_{\\mathit{pRB}}}} + k_{\\mathit{CyclinD1}_{p_{21}}}^{n_{\\mathit{CyclinD1}_{p_{21}}}} k_{\\mathit{CyclinD1}_{\\mathit{pRB}}}^{n_{\\mathit{CyclinD1}_{\\mathit{pRB}}}} x_{\\mathit{CyclinD}_{1}}^{n_{\\mathit{CyclinD1}_{\\mathit{CyclinD}_{1}}}} + k_{\\mathit{CyclinD1}_{\\mathit{CyclinD}_{1}}}^{n_{\\mathit{CyclinD1}_{\\mathit{CyclinD}_{1}}}} k_{\\mathit{CyclinD1}_{\\mathit{pRB}}}^{n_{\\mathit{CyclinD1}_{\\mathit{pRB}}}} x_{p_{21}}^{n_{\\mathit{CyclinD1}_{p_{21}}}} + k_{\\mathit{CyclinD1}_{\\mathit{pRB}}}^{n_{\\mathit{CyclinD1}_{\\mathit{pRB}}}} x_{\\mathit{CyclinD}_{1}}^{n_{\\mathit{CyclinD1}_{\\mathit{CyclinD}_{1}}}} x_{p_{21}}^{n_{\\mathit{CyclinD1}_{p_{21}}}} + k_{\\mathit{CyclinD1}_{\\mathit{CyclinD}_{1}}}^{n_{\\mathit{CyclinD1}_{\\mathit{CyclinD}_{1}}}} k_{\\mathit{CyclinD1}_{p_{21}}}^{n_{\\mathit{CyclinD1}_{p_{21}}}} x_{\\mathit{pRB}}^{n_{\\mathit{CyclinD1}_{\\mathit{pRB}}}} + k_{\\mathit{CyclinD1}_{p_{21}}}^{n_{\\mathit{CyclinD1}_{p_{21}}}} x_{\\mathit{CyclinD}_{1}}^{n_{\\mathit{CyclinD1}_{\\mathit{CyclinD}_{1}}}} x_{\\mathit{pRB}}^{n_{\\mathit{CyclinD1}_{\\mathit{pRB}}}} + k_{\\mathit{CyclinD1}_{\\mathit{CyclinD}_{1}}}^{n_{\\mathit{CyclinD1}_{\\mathit{CyclinD}_{1}}}} x_{p_{21}}^{n_{\\mathit{CyclinD1}_{p_{21}}}} x_{\\mathit{pRB}}^{n_{\\mathit{CyclinD1}_{\\mathit{pRB}}}} + x_{\\mathit{CyclinD}_{1}}^{n_{\\mathit{CyclinD1}_{\\mathit{CyclinD}_{1}}}} x_{p_{21}}^{n_{\\mathit{CyclinD1}_{p_{21}}}} x_{\\mathit{pRB}}^{n_{\\mathit{CyclinD1}_{\\mathit{pRB}}}}}</script></html>"
      ],
      "text/plain": [
       "-x_CyclinD1 + (k_CyclinD1_CyclinD1^n_CyclinD1_CyclinD1*k_CyclinD1_p21^n_CyclinD1_p21*k_CyclinD1_pRB^n_CyclinD1_pRB + k_CyclinD1_p21^n_CyclinD1_p21*k_CyclinD1_pRB^n_CyclinD1_pRB*x_CyclinD1^n_CyclinD1_CyclinD1 + k_CyclinD1_CyclinD1^n_CyclinD1_CyclinD1*k_CyclinD1_pRB^n_CyclinD1_pRB*x_p21^n_CyclinD1_p21 + k_CyclinD1_pRB^n_CyclinD1_pRB*x_CyclinD1^n_CyclinD1_CyclinD1*x_p21^n_CyclinD1_p21 + k_CyclinD1_CyclinD1^n_CyclinD1_CyclinD1*k_CyclinD1_p21^n_CyclinD1_p21*x_pRB^n_CyclinD1_pRB + k_CyclinD1_p21^n_CyclinD1_p21*x_CyclinD1^n_CyclinD1_CyclinD1*x_pRB^n_CyclinD1_pRB)/(k_CyclinD1_CyclinD1^n_CyclinD1_CyclinD1*k_CyclinD1_p21^n_CyclinD1_p21*k_CyclinD1_pRB^n_CyclinD1_pRB + k_CyclinD1_p21^n_CyclinD1_p21*k_CyclinD1_pRB^n_CyclinD1_pRB*x_CyclinD1^n_CyclinD1_CyclinD1 + k_CyclinD1_CyclinD1^n_CyclinD1_CyclinD1*k_CyclinD1_pRB^n_CyclinD1_pRB*x_p21^n_CyclinD1_p21 + k_CyclinD1_pRB^n_CyclinD1_pRB*x_CyclinD1^n_CyclinD1_CyclinD1*x_p21^n_CyclinD1_p21 + k_CyclinD1_CyclinD1^n_CyclinD1_CyclinD1*k_CyclinD1_p21^n_CyclinD1_p21*x_pRB^n_CyclinD1_pRB + k_CyclinD1_p21^n_CyclinD1_p21*x_CyclinD1^n_CyclinD1_CyclinD1*x_pRB^n_CyclinD1_pRB + k_CyclinD1_CyclinD1^n_CyclinD1_CyclinD1*x_p21^n_CyclinD1_p21*x_pRB^n_CyclinD1_pRB + x_CyclinD1^n_CyclinD1_CyclinD1*x_p21^n_CyclinD1_p21*x_pRB^n_CyclinD1_pRB)"
      ]
     },
     "metadata": {},
     "output_type": "display_data"
    },
    {
     "data": {
      "text/html": [
       "<html><script type=\"math/tex; mode=display\">\\newcommand{\\Bold}[1]{\\mathbf{#1}}\\frac{k_{\\mathit{pRB}_{\\mathit{CyclinD}_{1}}}^{n_{\\mathit{pRB}_{\\mathit{CyclinD}_{1}}}} k_{\\mathit{pRB}_{\\mathit{CyclinE}}}^{n_{\\mathit{pRB}_{\\mathit{CyclinE}}}} k_{\\mathit{pRB}_{\\mathit{p27Kip}_{1}}}^{n_{\\mathit{pRB}_{\\mathit{p27Kip}_{1}}}}}{k_{\\mathit{pRB}_{\\mathit{CyclinD}_{1}}}^{n_{\\mathit{pRB}_{\\mathit{CyclinD}_{1}}}} k_{\\mathit{pRB}_{\\mathit{CyclinE}}}^{n_{\\mathit{pRB}_{\\mathit{CyclinE}}}} k_{\\mathit{pRB}_{\\mathit{p27Kip}_{1}}}^{n_{\\mathit{pRB}_{\\mathit{p27Kip}_{1}}}} + k_{\\mathit{pRB}_{\\mathit{CyclinE}}}^{n_{\\mathit{pRB}_{\\mathit{CyclinE}}}} k_{\\mathit{pRB}_{\\mathit{p27Kip}_{1}}}^{n_{\\mathit{pRB}_{\\mathit{p27Kip}_{1}}}} x_{\\mathit{CyclinD}_{1}}^{n_{\\mathit{pRB}_{\\mathit{CyclinD}_{1}}}} + k_{\\mathit{pRB}_{\\mathit{CyclinD}_{1}}}^{n_{\\mathit{pRB}_{\\mathit{CyclinD}_{1}}}} k_{\\mathit{pRB}_{\\mathit{p27Kip}_{1}}}^{n_{\\mathit{pRB}_{\\mathit{p27Kip}_{1}}}} x_{\\mathit{CyclinE}}^{n_{\\mathit{pRB}_{\\mathit{CyclinE}}}} + k_{\\mathit{pRB}_{\\mathit{p27Kip}_{1}}}^{n_{\\mathit{pRB}_{\\mathit{p27Kip}_{1}}}} x_{\\mathit{CyclinD}_{1}}^{n_{\\mathit{pRB}_{\\mathit{CyclinD}_{1}}}} x_{\\mathit{CyclinE}}^{n_{\\mathit{pRB}_{\\mathit{CyclinE}}}}} - x_{\\mathit{pRB}}</script></html>"
      ],
      "text/plain": [
       "k_pRB_CyclinD1^n_pRB_CyclinD1*k_pRB_CyclinE^n_pRB_CyclinE*k_pRB_p27Kip1^n_pRB_p27Kip1/(k_pRB_CyclinD1^n_pRB_CyclinD1*k_pRB_CyclinE^n_pRB_CyclinE*k_pRB_p27Kip1^n_pRB_p27Kip1 + k_pRB_CyclinE^n_pRB_CyclinE*k_pRB_p27Kip1^n_pRB_p27Kip1*x_CyclinD1^n_pRB_CyclinD1 + k_pRB_CyclinD1^n_pRB_CyclinD1*k_pRB_p27Kip1^n_pRB_p27Kip1*x_CyclinE^n_pRB_CyclinE + k_pRB_p27Kip1^n_pRB_p27Kip1*x_CyclinD1^n_pRB_CyclinD1*x_CyclinE^n_pRB_CyclinE) - x_pRB"
      ]
     },
     "metadata": {},
     "output_type": "display_data"
    },
    {
     "data": {
      "text/html": [
       "<html><script type=\"math/tex; mode=display\">\\newcommand{\\Bold}[1]{\\mathbf{#1}}\\frac{k_{\\mathit{CyclinE}_{\\mathit{p27Kip}_{1}}}^{n_{\\mathit{CyclinE}_{\\mathit{p27Kip}_{1}}}} k_{\\mathit{CyclinE}_{\\mathit{pRB}}}^{n_{\\mathit{CyclinE}_{\\mathit{pRB}}}}}{k_{\\mathit{CyclinE}_{\\mathit{p27Kip}_{1}}}^{n_{\\mathit{CyclinE}_{\\mathit{p27Kip}_{1}}}} k_{\\mathit{CyclinE}_{\\mathit{pRB}}}^{n_{\\mathit{CyclinE}_{\\mathit{pRB}}}} + k_{\\mathit{CyclinE}_{\\mathit{p27Kip}_{1}}}^{n_{\\mathit{CyclinE}_{\\mathit{p27Kip}_{1}}}} x_{\\mathit{pRB}}^{n_{\\mathit{CyclinE}_{\\mathit{pRB}}}}} - x_{\\mathit{CyclinE}}</script></html>"
      ],
      "text/plain": [
       "k_CyclinE_p27Kip1^n_CyclinE_p27Kip1*k_CyclinE_pRB^n_CyclinE_pRB/(k_CyclinE_p27Kip1^n_CyclinE_p27Kip1*k_CyclinE_pRB^n_CyclinE_pRB + k_CyclinE_p27Kip1^n_CyclinE_p27Kip1*x_pRB^n_CyclinE_pRB) - x_CyclinE"
      ]
     },
     "metadata": {},
     "output_type": "display_data"
    },
    {
     "data": {
      "text/html": [
       "<html><script type=\"math/tex; mode=display\">\\newcommand{\\Bold}[1]{\\mathbf{#1}}-x_{p_{21}} + \\frac{k_{\\mathit{p21}_{\\mathit{CyclinE}}}^{n_{\\mathit{p21}_{\\mathit{CyclinE}}}}}{k_{\\mathit{p21}_{\\mathit{CyclinE}}}^{n_{\\mathit{p21}_{\\mathit{CyclinE}}}} + x_{\\mathit{CyclinE}}^{n_{\\mathit{p21}_{\\mathit{CyclinE}}}}}</script></html>"
      ],
      "text/plain": [
       "-x_p21 + k_p21_CyclinE^n_p21_CyclinE/(k_p21_CyclinE^n_p21_CyclinE + x_CyclinE^n_p21_CyclinE)"
      ]
     },
     "metadata": {},
     "output_type": "display_data"
    }
   ],
   "source": [
    "show(wcCycD)\n",
    "show(wcpRB)\n",
    "show(wcCycE)\n",
    "show(wcp21)"
   ]
  },
  {
   "cell_type": "code",
   "execution_count": 9,
   "metadata": {
    "collapsed": false
   },
   "outputs": [
    {
     "data": {
      "text/html": [
       "<html><script type=\"math/tex; mode=display\">\\newcommand{\\Bold}[1]{\\mathbf{#1}}-x_{\\mathit{CyclinD}_{1}} + \\frac{k_{\\mathit{CyclinD1}_{p_{21}}}^{n_{\\mathit{CyclinD1}_{p_{21}}}} k_{\\mathit{CyclinD1}_{\\mathit{pRB}}}^{n_{\\mathit{CyclinD1}_{\\mathit{pRB}}}} + k_{\\mathit{CyclinD1}_{\\mathit{pRB}}}^{n_{\\mathit{CyclinD1}_{\\mathit{pRB}}}} x_{p_{21}}^{n_{\\mathit{CyclinD1}_{p_{21}}}} + k_{\\mathit{CyclinD1}_{p_{21}}}^{n_{\\mathit{CyclinD1}_{p_{21}}}} x_{\\mathit{pRB}}^{n_{\\mathit{CyclinD1}_{\\mathit{pRB}}}}}{k_{\\mathit{CyclinD1}_{p_{21}}}^{n_{\\mathit{CyclinD1}_{p_{21}}}} k_{\\mathit{CyclinD1}_{\\mathit{pRB}}}^{n_{\\mathit{CyclinD1}_{\\mathit{pRB}}}} + k_{\\mathit{CyclinD1}_{\\mathit{pRB}}}^{n_{\\mathit{CyclinD1}_{\\mathit{pRB}}}} x_{p_{21}}^{n_{\\mathit{CyclinD1}_{p_{21}}}} + {\\left(k_{\\mathit{CyclinD1}_{p_{21}}}^{n_{\\mathit{CyclinD1}_{p_{21}}}} + x_{p_{21}}^{n_{\\mathit{CyclinD1}_{p_{21}}}}\\right)} x_{\\mathit{pRB}}^{n_{\\mathit{CyclinD1}_{\\mathit{pRB}}}}}</script></html>"
      ],
      "text/plain": [
       "-x_CyclinD1 + (k_CyclinD1_p21^n_CyclinD1_p21*k_CyclinD1_pRB^n_CyclinD1_pRB + k_CyclinD1_pRB^n_CyclinD1_pRB*x_p21^n_CyclinD1_p21 + k_CyclinD1_p21^n_CyclinD1_p21*x_pRB^n_CyclinD1_pRB)/(k_CyclinD1_p21^n_CyclinD1_p21*k_CyclinD1_pRB^n_CyclinD1_pRB + k_CyclinD1_pRB^n_CyclinD1_pRB*x_p21^n_CyclinD1_p21 + (k_CyclinD1_p21^n_CyclinD1_p21 + x_p21^n_CyclinD1_p21)*x_pRB^n_CyclinD1_pRB)"
      ]
     },
     "metadata": {},
     "output_type": "display_data"
    },
    {
     "data": {
      "text/html": [
       "<html><script type=\"math/tex; mode=display\">\\newcommand{\\Bold}[1]{\\mathbf{#1}}\\frac{k_{\\mathit{pRB}_{\\mathit{CyclinD}_{1}}}^{n_{\\mathit{pRB}_{\\mathit{CyclinD}_{1}}}} k_{\\mathit{pRB}_{\\mathit{CyclinE}}}^{n_{\\mathit{pRB}_{\\mathit{CyclinE}}}}}{k_{\\mathit{pRB}_{\\mathit{CyclinD}_{1}}}^{n_{\\mathit{pRB}_{\\mathit{CyclinD}_{1}}}} k_{\\mathit{pRB}_{\\mathit{CyclinE}}}^{n_{\\mathit{pRB}_{\\mathit{CyclinE}}}} + k_{\\mathit{pRB}_{\\mathit{CyclinE}}}^{n_{\\mathit{pRB}_{\\mathit{CyclinE}}}} x_{\\mathit{CyclinD}_{1}}^{n_{\\mathit{pRB}_{\\mathit{CyclinD}_{1}}}} + {\\left(k_{\\mathit{pRB}_{\\mathit{CyclinD}_{1}}}^{n_{\\mathit{pRB}_{\\mathit{CyclinD}_{1}}}} + x_{\\mathit{CyclinD}_{1}}^{n_{\\mathit{pRB}_{\\mathit{CyclinD}_{1}}}}\\right)} x_{\\mathit{CyclinE}}^{n_{\\mathit{pRB}_{\\mathit{CyclinE}}}}} - x_{\\mathit{pRB}}</script></html>"
      ],
      "text/plain": [
       "k_pRB_CyclinD1^n_pRB_CyclinD1*k_pRB_CyclinE^n_pRB_CyclinE/(k_pRB_CyclinD1^n_pRB_CyclinD1*k_pRB_CyclinE^n_pRB_CyclinE + k_pRB_CyclinE^n_pRB_CyclinE*x_CyclinD1^n_pRB_CyclinD1 + (k_pRB_CyclinD1^n_pRB_CyclinD1 + x_CyclinD1^n_pRB_CyclinD1)*x_CyclinE^n_pRB_CyclinE) - x_pRB"
      ]
     },
     "metadata": {},
     "output_type": "display_data"
    },
    {
     "data": {
      "text/html": [
       "<html><script type=\"math/tex; mode=display\">\\newcommand{\\Bold}[1]{\\mathbf{#1}}-x_{\\mathit{CyclinE}} + \\frac{k_{\\mathit{CyclinE}_{\\mathit{pRB}}}^{n_{\\mathit{CyclinE}_{\\mathit{pRB}}}}}{k_{\\mathit{CyclinE}_{\\mathit{pRB}}}^{n_{\\mathit{CyclinE}_{\\mathit{pRB}}}} + x_{\\mathit{pRB}}^{n_{\\mathit{CyclinE}_{\\mathit{pRB}}}}}</script></html>"
      ],
      "text/plain": [
       "-x_CyclinE + k_CyclinE_pRB^n_CyclinE_pRB/(k_CyclinE_pRB^n_CyclinE_pRB + x_pRB^n_CyclinE_pRB)"
      ]
     },
     "metadata": {},
     "output_type": "display_data"
    },
    {
     "data": {
      "text/html": [
       "<html><script type=\"math/tex; mode=display\">\\newcommand{\\Bold}[1]{\\mathbf{#1}}-x_{p_{21}} + \\frac{k_{\\mathit{p21}_{\\mathit{CyclinE}}}^{n_{\\mathit{p21}_{\\mathit{CyclinE}}}}}{k_{\\mathit{p21}_{\\mathit{CyclinE}}}^{n_{\\mathit{p21}_{\\mathit{CyclinE}}}} + x_{\\mathit{CyclinE}}^{n_{\\mathit{p21}_{\\mathit{CyclinE}}}}}</script></html>"
      ],
      "text/plain": [
       "-x_p21 + k_p21_CyclinE^n_p21_CyclinE/(k_p21_CyclinE^n_p21_CyclinE + x_CyclinE^n_p21_CyclinE)"
      ]
     },
     "metadata": {},
     "output_type": "display_data"
    }
   ],
   "source": [
    "# Simplify at steady state\n",
    "wcCycD=(wcCycD+x[\"CyclinD1\"]).simplify_rational()-x[\"CyclinD1\"]\n",
    "wcpRB=(wcpRB+x[\"pRB\"]).simplify_rational()-x[\"pRB\"]\n",
    "wcCycE=(wcCycE+x[\"CyclinE\"]).simplify_rational()-x[\"CyclinE\"]\n",
    "wcp21=(wcp21+x[\"p21\"]).simplify_rational()-x[\"p21\"]\n",
    "show(wcCycD)\n",
    "show(wcpRB)\n",
    "show(wcCycE)\n",
    "show(wcp21)"
   ]
  },
  {
   "cell_type": "code",
   "execution_count": 10,
   "metadata": {
    "collapsed": false
   },
   "outputs": [
    {
     "data": {
      "text/plain": [
       "TE"
      ]
     },
     "execution_count": 10,
     "metadata": {},
     "output_type": "execute_result"
    }
   ],
   "source": [
    "# Define a threshold variable; we will study pRB > TE\n",
    "var('TE')"
   ]
  },
  {
   "cell_type": "code",
   "execution_count": 11,
   "metadata": {
    "collapsed": false
   },
   "outputs": [],
   "source": [
    "# A functional motif will occur if pRB-TE=pPRB=0 has a solution\n",
    "TCYCE=wcCycE.subs(x[\"pRB\"]==TE).solve(x[\"CyclinE\"])[0].rhs()\n",
    "TP21=wcp21.subs(x[\"CyclinE\"]==TCYCE).solve(x[\"p21\"])[0].rhs()\n",
    "TCYCD=wcCycD.subs(x[\"p21\"]==TP21,x[\"pRB\"]==TE).solve(x[\"CyclinD1\"])[0].rhs()\n",
    "pPRB=wcpRB.subs(x[\"CyclinE\"]==TCYCE,x[\"CyclinD1\"]==TCYCD)"
   ]
  },
  {
   "cell_type": "code",
   "execution_count": 12,
   "metadata": {
    "collapsed": true
   },
   "outputs": [],
   "source": [
    "# Function to search for roots of f on an interval [a,b] with tolerance eps\n",
    "def find_all_roots(f, a, b, eps=0.001):\n",
    "    roots = []\n",
    "    intervals_to_check = [(a,b)]\n",
    "    while intervals_to_check:\n",
    "        start, end = intervals_to_check.pop()\n",
    "        try:\n",
    "            root = find_root(f, start, end)\n",
    "        except RuntimeError:\n",
    "            continue\n",
    "        if root in roots:\n",
    "            continue\n",
    "        if abs(f(root)) < 1:\n",
    "            roots.append(root)\n",
    "        intervals_to_check.extend([(start, root-eps), (root+eps, end)])\n",
    "    roots.sort()\n",
    "    return roots\n",
    "\n",
    "# Find the midpoint of the line segment connecting (x1,y1) to (x2,y2)\n",
    "def linInterpRoot(x1,x2,y1,y2):\n",
    "    m = (y2-y1)/(x2-x1)\n",
    "    b = y1-x1*m\n",
    "    x0 = -b/m\n",
    "    return x0\n",
    "    \n",
    "# Class to store parameter sets and test them for functionality    \n",
    "class SMRoot:\n",
    "    Nscan = 20\n",
    "    tscan = [i/Nscan for i in range(1,Nscan+1)]\n",
    "    lowroot = 0.499\n",
    "    highroot = 1\n",
    "    eps = 0.001\n",
    "\n",
    "    def __init__(self,paramDict):\n",
    "        self.paramDict=paramDict\n",
    "        self.maxRootDict = {}\n",
    "        self.tested = False\n",
    "        \n",
    "    def buildMaxRoot(self):\n",
    "        r = find_all_roots(pPRB.subs(self.paramDict).subs(x[\"pRB\"]==TE),0.5,1)\n",
    "        if len(r) > 0:\n",
    "            self.maxRootDict = {\"pRB\":r[-1],\n",
    "                            \"CyclinE\":TCYCE.subs(self.paramDict).subs(TE==r[-1]),\n",
    "                            \"p21\":TP21.subs(self.paramDict).subs(TE==r[-1]),\n",
    "                            \"CyclinD1\":TCYCD.subs(self.paramDict).subs(TE==r[-1])}\n",
    "       \n",
    "        self.tested = True"
   ]
  },
  {
   "cell_type": "code",
   "execution_count": 13,
   "metadata": {
    "collapsed": false
   },
   "outputs": [],
   "source": [
    "# Read unspecified parameters and build a function to randomly generate values for them\n",
    "kargs = []\n",
    "nargs = []\n",
    "for v in pPRB.args() + wcCycD.args():\n",
    "    if str(v)[0]==\"k\":\n",
    "        kargs.append(v)\n",
    "    if str(v)[0]==\"n\":\n",
    "        nargs.append(v)\n",
    "\n",
    "kargs = list(set(kargs))\n",
    "nargs = list(set(nargs))\n",
    "nkargs = nargs + kargs\n",
    "   \n",
    "\n",
    "def genRandomParams(seed = None, scale = \"Log\", nValBounds = (1,8),kValBounds = (1/16,15/16)):\n",
    "    rn.seed(seed)\n",
    "    \n",
    "    # sample low values exponentially more often than high values (uniform in log-space); otherwise, uniform in linear-space\n",
    "    if scale == \"Log\":\n",
    "        nvals = [-ln(xx) for xx in rn.uniform(exp(-nValBounds[0]),exp(-nValBounds[1]),len(nargs))]\n",
    "        kvals = [-ln(xx) for xx in rn.uniform(exp(-kValBounds[0]),exp(-kValBounds[1]),len(kargs))]\n",
    "    else:\n",
    "        nvals = [xx for xx in rn.uniform(nValBounds[0],nValBounds[1],len(nargs))]\n",
    "        kvals = [xx for xx in rn.uniform(kValBounds[0],kValBounds[1],len(kargs))]\n",
    "        \n",
    "    nkvals = nvals + kvals\n",
    "    return {nkargs[i]:nkvals[i] for i in range(len(nkvals))}"
   ]
  },
  {
   "cell_type": "code",
   "execution_count": 16,
   "metadata": {
    "collapsed": false
   },
   "outputs": [
    {
     "name": "stderr",
     "output_type": "stream",
     "text": [
      "/usr/lib/sagemath/local/lib/python2.7/site-packages/sage/repl/ipython_kernel/__main__.py:37: DeprecationWarning: Substitution using function-call syntax and unnamed arguments is deprecated and will be removed from a future release of Sage; you can use named arguments instead, like EXPR(x=..., y=...)\n",
      "See http://trac.sagemath.org/5930 for details.\n"
     ]
    }
   ],
   "source": [
    "# Test functionality for NSamples parameter sets for this candidate motif\n",
    "NSamples = 10000\n",
    "\n",
    "SM = []\n",
    "NSM = []\n",
    "strongSM = []\n",
    "for i in range(NSamples):\n",
    "    testDict=genRandomParams(seed=i,scale=\"Lin\")\n",
    "    testRoot = SMRoot(testDict)\n",
    "    testRoot.buildMaxRoot()\n",
    "    if len(testRoot.maxRootDict.keys()) > 0:\n",
    "        SM.append(testRoot)\n",
    "        r = testRoot.maxRootDict\n",
    "        if r[\"pRB\"] > 0.5 and r[\"CyclinD1\"] < 0.5 and r[\"CyclinE\"] < 0.5 and r[\"p21\"] > 0.5:\n",
    "            strongSM.append(testRoot)\n",
    "    else:\n",
    "        NSM.append(testRoot)\n"
   ]
  },
  {
   "cell_type": "code",
   "execution_count": 19,
   "metadata": {
    "collapsed": true
   },
   "outputs": [],
   "source": [
    "# Save the output\n",
    "save(SM,'SM3')\n",
    "save(strongSM,'strongSM3')\n",
    "save(NSM,'NSM3')"
   ]
  },
  {
   "cell_type": "code",
   "execution_count": 14,
   "metadata": {
    "collapsed": false
   },
   "outputs": [],
   "source": [
    "# Load output if it already exists\n",
    "NSM = load('./NSM3.sobj')\n",
    "SM = load('./SM3.sobj')\n",
    "strongSM = load('./strongSM3.sobj')"
   ]
  },
  {
   "cell_type": "code",
   "execution_count": 18,
   "metadata": {
    "collapsed": false
   },
   "outputs": [
    {
     "name": "stdout",
     "output_type": "stream",
     "text": [
      "0.3685\n",
      "0.959837177748\n",
      "0.3537\n"
     ]
    }
   ],
   "source": [
    "# Some basic statistics\n",
    "print(float(len(SM))/(len(NSM) + len(SM)))\n",
    "print(float(len(strongSM))/(len(SM)))\n",
    "print(float(len(strongSM))/(len(NSM) + len(SM)))"
   ]
  }
 ],
 "metadata": {
  "kernelspec": {
   "display_name": "SageMath 7.5.1",
   "language": "",
   "name": "sagemath"
  },
  "language_info": {
   "codemirror_mode": {
    "name": "ipython",
    "version": 2
   },
   "file_extension": ".py",
   "mimetype": "text/x-python",
   "name": "python",
   "nbconvert_exporter": "python",
   "pygments_lexer": "ipython2",
   "version": "2.7.13"
  }
 },
 "nbformat": 4,
 "nbformat_minor": 0
}
