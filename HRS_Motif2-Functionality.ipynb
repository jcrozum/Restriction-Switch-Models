{
 "cells": [
  {
   "cell_type": "code",
   "execution_count": 1,
   "metadata": {
    "collapsed": true
   },
   "outputs": [],
   "source": [
    "import sage.logic.propcalc as pc\n",
    "import itertools as it\n",
    "import numpy.random as rn\n",
    "from sage.plot.histogram import Histogram\n",
    "import numpy as np"
   ]
  },
  {
   "cell_type": "code",
   "execution_count": 2,
   "metadata": {
    "collapsed": true
   },
   "outputs": [],
   "source": [
    "# Define the Boolean Rules\n",
    "Rules = \"\"\"E2F1 *= (~pRB & E2F1) | (~pRB & Myc)\n",
    "CyclinD1 *= (~p21 & Myc) | (~pRB & Myc & E2F1) | (~p21 & E2F1) | (~pRB & E2F1 & CyclinD1)\n",
    "p21 *= ~CyclinE\n",
    "Myc *= ~pRB & E2F1\n",
    "CyclinE *= ~pRB & ~p27Kip1 & E2F1\n",
    "pRB *= (p27Kip1 & ~CyclinD1) | (~CyclinE & ~CyclinD1)\n",
    "p27Kip1 *= ~CyclinE & ~CyclinD1\"\"\""
   ]
  },
  {
   "cell_type": "code",
   "execution_count": 3,
   "metadata": {
    "collapsed": false
   },
   "outputs": [
    {
     "name": "stdout",
     "output_type": "stream",
     "text": [
      "E2F1 *= (~pRB&E2F1)|(~pRB&Myc)\n",
      "CyclinE *= ~pRB&~p27Kip1&E2F1\n",
      "pRB *= (p27Kip1&~CyclinD1)|(~CyclinE&~CyclinD1)\n",
      "p27Kip1 *= ~CyclinE&~CyclinD1\n",
      "p21 *= ~CyclinE\n",
      "CyclinD1 *= (~p21&Myc)|(~pRB&Myc&E2F1)|(~p21&E2F1)|(~pRB&E2F1&CyclinD1)\n",
      "Myc *= ~pRB&E2F1\n"
     ]
    }
   ],
   "source": [
    "# Parse the Boolean Rules\n",
    "rdict = {}\n",
    "for line in Rules.split('\\n'):\n",
    "    lr = line.split('*=')\n",
    "    rdict[lr[0].strip()] = pc.formula(lr[1])\n",
    "    \n",
    "for r in rdict: print r, \"*=\", rdict[r]"
   ]
  },
  {
   "cell_type": "code",
   "execution_count": 4,
   "metadata": {
    "collapsed": true
   },
   "outputs": [],
   "source": [
    "# Convert the rules to Hill kinetics rate functions\n",
    "x={r:var('x_'+r) for r in rdict}\n",
    "RF = {}\n",
    "for r in rdict:\n",
    "    k = {}\n",
    "    n = {}\n",
    "    H = {}\n",
    "    \n",
    "    RF[r] = -x[r]\n",
    "    \n",
    "    varnames = str(rdict[r].truthtable(end=0)).split()[0:-1]\n",
    "    \n",
    "    for ncomb in range(len(varnames)+1):\n",
    "        for comb in it.combinations(varnames,ncomb):\n",
    "            st = {v: v in list(comb) for v in varnames}\n",
    "            hprod = 0\n",
    "            if rdict[r].evaluate(st):           \n",
    "                hprod = 1\n",
    "                for v in varnames:\n",
    "                    rv = r + '_' + v\n",
    "                    k[rv] = var('k_' + rv)\n",
    "                    n[rv] = var('n_' + rv)\n",
    "                    \n",
    "                    if st[v]:\n",
    "                        hprod *= x[v]^n[rv] / (k[rv]^n[rv] + x[v]^n[rv])\n",
    "                    else:\n",
    "                        hprod *= k[rv]^n[rv] / (k[rv]^n[rv] + x[v]^n[rv])\n",
    "            RF[r] += hprod\n",
    "    RF[r] = ((RF[r]+x[r]).numerator()/(RF[r]+x[r]).denominator()) - x[r]"
   ]
  },
  {
   "cell_type": "code",
   "execution_count": 5,
   "metadata": {
    "collapsed": true
   },
   "outputs": [],
   "source": [
    "# Function to help obtain the \"worst case system\" of Rozum & Albert 2018 (PLOS Comp. Bio)\n",
    "# Given v and lists vmin and vmax, returns the rate function for v with the variables in vmin set to zero\n",
    "# and variables in vmax set to infinity\n",
    "def wcRF(v, vmin, vmax):\n",
    "    vmin = set([x[vmx] for vmx in vmin])\n",
    "    vmax = set([x[vmx] for vmx in vmax])\n",
    "    mn1 = 0\n",
    "    md1 = 0\n",
    "    \n",
    "    if (RF[v]+x[v]).numerator().operator() == sage.symbolic.operators.mul_vararg:\n",
    "        numerTerms = [(RF[v]+x[v]).numerator()]\n",
    "    else:\n",
    "        numerTerms = (RF[v]+x[v]).numerator().operands()\n",
    "    \n",
    "    for t in numerTerms:\n",
    "        if vmin.isdisjoint(set(t.args())) and vmax.issubset(set(t.args())):\n",
    "            for vmx in vmax:\n",
    "                t = t.subs(vmx == 1)\n",
    "            mn1 += t\n",
    "    for t in (RF[v]+x[v]).denominator().expand().operands():\n",
    "        for vmx in vmin:\n",
    "            t = t.subs(vmx == 0)\n",
    "        if vmax.issubset(set(t.args())):\n",
    "            for vmx in vmax:\n",
    "                t = t.subs(vmx == 1)\n",
    "            md1 += t\n",
    "    #for t in (RF[v]+x[v]).denominator().operands():\n",
    "    #    if vmax.isdisjoint(set(t.args())):\n",
    "    #        md1 *= t\n",
    "    return simplify(mn1/md1 - x[v])"
   ]
  },
  {
   "cell_type": "code",
   "execution_count": 6,
   "metadata": {
    "collapsed": true
   },
   "outputs": [],
   "source": [
    "# The worst case system for this motif\n",
    "wcCycD=wcRF(\"CyclinD1\",[\"Myc\"],[\"p21\"])\n",
    "wcpRB=wcRF(\"pRB\",[\"CyclinE\"],[\"p27Kip1\"])\n",
    "wcE2F1=wcRF(\"E2F1\",[\"Myc\"],[])"
   ]
  },
  {
   "cell_type": "code",
   "execution_count": 7,
   "metadata": {
    "collapsed": false
   },
   "outputs": [
    {
     "data": {
      "text/html": [
       "<html><script type=\"math/tex; mode=display\">\\newcommand{\\Bold}[1]{\\mathbf{#1}}\\frac{k_{\\mathit{CyclinD1}_{\\mathit{Myc}}}^{n_{\\mathit{CyclinD1}_{\\mathit{Myc}}}} k_{\\mathit{CyclinD1}_{\\mathit{pRB}}}^{n_{\\mathit{CyclinD1}_{\\mathit{pRB}}}} x_{\\mathit{CyclinD}_{1}}^{n_{\\mathit{CyclinD1}_{\\mathit{CyclinD}_{1}}}} x_{\\mathit{E2F}_{1}}^{n_{\\mathit{CyclinD1}_{\\mathit{E2F}_{1}}}}}{k_{\\mathit{CyclinD1}_{\\mathit{CyclinD}_{1}}}^{n_{\\mathit{CyclinD1}_{\\mathit{CyclinD}_{1}}}} k_{\\mathit{CyclinD1}_{\\mathit{E2F}_{1}}}^{n_{\\mathit{CyclinD1}_{\\mathit{E2F}_{1}}}} k_{\\mathit{CyclinD1}_{\\mathit{Myc}}}^{n_{\\mathit{CyclinD1}_{\\mathit{Myc}}}} k_{\\mathit{CyclinD1}_{\\mathit{pRB}}}^{n_{\\mathit{CyclinD1}_{\\mathit{pRB}}}} + k_{\\mathit{CyclinD1}_{\\mathit{E2F}_{1}}}^{n_{\\mathit{CyclinD1}_{\\mathit{E2F}_{1}}}} k_{\\mathit{CyclinD1}_{\\mathit{Myc}}}^{n_{\\mathit{CyclinD1}_{\\mathit{Myc}}}} k_{\\mathit{CyclinD1}_{\\mathit{pRB}}}^{n_{\\mathit{CyclinD1}_{\\mathit{pRB}}}} x_{\\mathit{CyclinD}_{1}}^{n_{\\mathit{CyclinD1}_{\\mathit{CyclinD}_{1}}}} + k_{\\mathit{CyclinD1}_{\\mathit{CyclinD}_{1}}}^{n_{\\mathit{CyclinD1}_{\\mathit{CyclinD}_{1}}}} k_{\\mathit{CyclinD1}_{\\mathit{Myc}}}^{n_{\\mathit{CyclinD1}_{\\mathit{Myc}}}} k_{\\mathit{CyclinD1}_{\\mathit{pRB}}}^{n_{\\mathit{CyclinD1}_{\\mathit{pRB}}}} x_{\\mathit{E2F}_{1}}^{n_{\\mathit{CyclinD1}_{\\mathit{E2F}_{1}}}} + k_{\\mathit{CyclinD1}_{\\mathit{Myc}}}^{n_{\\mathit{CyclinD1}_{\\mathit{Myc}}}} k_{\\mathit{CyclinD1}_{\\mathit{pRB}}}^{n_{\\mathit{CyclinD1}_{\\mathit{pRB}}}} x_{\\mathit{CyclinD}_{1}}^{n_{\\mathit{CyclinD1}_{\\mathit{CyclinD}_{1}}}} x_{\\mathit{E2F}_{1}}^{n_{\\mathit{CyclinD1}_{\\mathit{E2F}_{1}}}} + k_{\\mathit{CyclinD1}_{\\mathit{CyclinD}_{1}}}^{n_{\\mathit{CyclinD1}_{\\mathit{CyclinD}_{1}}}} k_{\\mathit{CyclinD1}_{\\mathit{E2F}_{1}}}^{n_{\\mathit{CyclinD1}_{\\mathit{E2F}_{1}}}} k_{\\mathit{CyclinD1}_{\\mathit{Myc}}}^{n_{\\mathit{CyclinD1}_{\\mathit{Myc}}}} x_{\\mathit{pRB}}^{n_{\\mathit{CyclinD1}_{\\mathit{pRB}}}} + k_{\\mathit{CyclinD1}_{\\mathit{E2F}_{1}}}^{n_{\\mathit{CyclinD1}_{\\mathit{E2F}_{1}}}} k_{\\mathit{CyclinD1}_{\\mathit{Myc}}}^{n_{\\mathit{CyclinD1}_{\\mathit{Myc}}}} x_{\\mathit{CyclinD}_{1}}^{n_{\\mathit{CyclinD1}_{\\mathit{CyclinD}_{1}}}} x_{\\mathit{pRB}}^{n_{\\mathit{CyclinD1}_{\\mathit{pRB}}}} + k_{\\mathit{CyclinD1}_{\\mathit{CyclinD}_{1}}}^{n_{\\mathit{CyclinD1}_{\\mathit{CyclinD}_{1}}}} k_{\\mathit{CyclinD1}_{\\mathit{Myc}}}^{n_{\\mathit{CyclinD1}_{\\mathit{Myc}}}} x_{\\mathit{E2F}_{1}}^{n_{\\mathit{CyclinD1}_{\\mathit{E2F}_{1}}}} x_{\\mathit{pRB}}^{n_{\\mathit{CyclinD1}_{\\mathit{pRB}}}} + k_{\\mathit{CyclinD1}_{\\mathit{Myc}}}^{n_{\\mathit{CyclinD1}_{\\mathit{Myc}}}} x_{\\mathit{CyclinD}_{1}}^{n_{\\mathit{CyclinD1}_{\\mathit{CyclinD}_{1}}}} x_{\\mathit{E2F}_{1}}^{n_{\\mathit{CyclinD1}_{\\mathit{E2F}_{1}}}} x_{\\mathit{pRB}}^{n_{\\mathit{CyclinD1}_{\\mathit{pRB}}}}} - x_{\\mathit{CyclinD}_{1}}</script></html>"
      ],
      "text/plain": [
       "k_CyclinD1_Myc^n_CyclinD1_Myc*k_CyclinD1_pRB^n_CyclinD1_pRB*x_CyclinD1^n_CyclinD1_CyclinD1*x_E2F1^n_CyclinD1_E2F1/(k_CyclinD1_CyclinD1^n_CyclinD1_CyclinD1*k_CyclinD1_E2F1^n_CyclinD1_E2F1*k_CyclinD1_Myc^n_CyclinD1_Myc*k_CyclinD1_pRB^n_CyclinD1_pRB + k_CyclinD1_E2F1^n_CyclinD1_E2F1*k_CyclinD1_Myc^n_CyclinD1_Myc*k_CyclinD1_pRB^n_CyclinD1_pRB*x_CyclinD1^n_CyclinD1_CyclinD1 + k_CyclinD1_CyclinD1^n_CyclinD1_CyclinD1*k_CyclinD1_Myc^n_CyclinD1_Myc*k_CyclinD1_pRB^n_CyclinD1_pRB*x_E2F1^n_CyclinD1_E2F1 + k_CyclinD1_Myc^n_CyclinD1_Myc*k_CyclinD1_pRB^n_CyclinD1_pRB*x_CyclinD1^n_CyclinD1_CyclinD1*x_E2F1^n_CyclinD1_E2F1 + k_CyclinD1_CyclinD1^n_CyclinD1_CyclinD1*k_CyclinD1_E2F1^n_CyclinD1_E2F1*k_CyclinD1_Myc^n_CyclinD1_Myc*x_pRB^n_CyclinD1_pRB + k_CyclinD1_E2F1^n_CyclinD1_E2F1*k_CyclinD1_Myc^n_CyclinD1_Myc*x_CyclinD1^n_CyclinD1_CyclinD1*x_pRB^n_CyclinD1_pRB + k_CyclinD1_CyclinD1^n_CyclinD1_CyclinD1*k_CyclinD1_Myc^n_CyclinD1_Myc*x_E2F1^n_CyclinD1_E2F1*x_pRB^n_CyclinD1_pRB + k_CyclinD1_Myc^n_CyclinD1_Myc*x_CyclinD1^n_CyclinD1_CyclinD1*x_E2F1^n_CyclinD1_E2F1*x_pRB^n_CyclinD1_pRB) - x_CyclinD1"
      ]
     },
     "metadata": {},
     "output_type": "display_data"
    },
    {
     "data": {
      "text/html": [
       "<html><script type=\"math/tex; mode=display\">\\newcommand{\\Bold}[1]{\\mathbf{#1}}\\frac{k_{\\mathit{pRB}_{\\mathit{CyclinD}_{1}}}^{n_{\\mathit{pRB}_{\\mathit{CyclinD}_{1}}}} k_{\\mathit{pRB}_{\\mathit{CyclinE}}}^{n_{\\mathit{pRB}_{\\mathit{CyclinE}}}}}{k_{\\mathit{pRB}_{\\mathit{CyclinD}_{1}}}^{n_{\\mathit{pRB}_{\\mathit{CyclinD}_{1}}}} k_{\\mathit{pRB}_{\\mathit{CyclinE}}}^{n_{\\mathit{pRB}_{\\mathit{CyclinE}}}} + k_{\\mathit{pRB}_{\\mathit{CyclinE}}}^{n_{\\mathit{pRB}_{\\mathit{CyclinE}}}} x_{\\mathit{CyclinD}_{1}}^{n_{\\mathit{pRB}_{\\mathit{CyclinD}_{1}}}}} - x_{\\mathit{pRB}}</script></html>"
      ],
      "text/plain": [
       "k_pRB_CyclinD1^n_pRB_CyclinD1*k_pRB_CyclinE^n_pRB_CyclinE/(k_pRB_CyclinD1^n_pRB_CyclinD1*k_pRB_CyclinE^n_pRB_CyclinE + k_pRB_CyclinE^n_pRB_CyclinE*x_CyclinD1^n_pRB_CyclinD1) - x_pRB"
      ]
     },
     "metadata": {},
     "output_type": "display_data"
    },
    {
     "data": {
      "text/html": [
       "<html><script type=\"math/tex; mode=display\">\\newcommand{\\Bold}[1]{\\mathbf{#1}}\\frac{k_{\\mathit{E2F1}_{\\mathit{Myc}}}^{n_{\\mathit{E2F1}_{\\mathit{Myc}}}} k_{\\mathit{E2F1}_{\\mathit{pRB}}}^{n_{\\mathit{E2F1}_{\\mathit{pRB}}}} x_{\\mathit{E2F}_{1}}^{n_{\\mathit{E2F1}_{\\mathit{E2F}_{1}}}}}{k_{\\mathit{E2F1}_{\\mathit{E2F}_{1}}}^{n_{\\mathit{E2F1}_{\\mathit{E2F}_{1}}}} k_{\\mathit{E2F1}_{\\mathit{Myc}}}^{n_{\\mathit{E2F1}_{\\mathit{Myc}}}} k_{\\mathit{E2F1}_{\\mathit{pRB}}}^{n_{\\mathit{E2F1}_{\\mathit{pRB}}}} + k_{\\mathit{E2F1}_{\\mathit{Myc}}}^{n_{\\mathit{E2F1}_{\\mathit{Myc}}}} k_{\\mathit{E2F1}_{\\mathit{pRB}}}^{n_{\\mathit{E2F1}_{\\mathit{pRB}}}} x_{\\mathit{E2F}_{1}}^{n_{\\mathit{E2F1}_{\\mathit{E2F}_{1}}}} + k_{\\mathit{E2F1}_{\\mathit{E2F}_{1}}}^{n_{\\mathit{E2F1}_{\\mathit{E2F}_{1}}}} k_{\\mathit{E2F1}_{\\mathit{Myc}}}^{n_{\\mathit{E2F1}_{\\mathit{Myc}}}} x_{\\mathit{pRB}}^{n_{\\mathit{E2F1}_{\\mathit{pRB}}}} + k_{\\mathit{E2F1}_{\\mathit{Myc}}}^{n_{\\mathit{E2F1}_{\\mathit{Myc}}}} x_{\\mathit{E2F}_{1}}^{n_{\\mathit{E2F1}_{\\mathit{E2F}_{1}}}} x_{\\mathit{pRB}}^{n_{\\mathit{E2F1}_{\\mathit{pRB}}}}} - x_{\\mathit{E2F}_{1}}</script></html>"
      ],
      "text/plain": [
       "k_E2F1_Myc^n_E2F1_Myc*k_E2F1_pRB^n_E2F1_pRB*x_E2F1^n_E2F1_E2F1/(k_E2F1_E2F1^n_E2F1_E2F1*k_E2F1_Myc^n_E2F1_Myc*k_E2F1_pRB^n_E2F1_pRB + k_E2F1_Myc^n_E2F1_Myc*k_E2F1_pRB^n_E2F1_pRB*x_E2F1^n_E2F1_E2F1 + k_E2F1_E2F1^n_E2F1_E2F1*k_E2F1_Myc^n_E2F1_Myc*x_pRB^n_E2F1_pRB + k_E2F1_Myc^n_E2F1_Myc*x_E2F1^n_E2F1_E2F1*x_pRB^n_E2F1_pRB) - x_E2F1"
      ]
     },
     "metadata": {},
     "output_type": "display_data"
    }
   ],
   "source": [
    "show(wcCycD)\n",
    "show(wcpRB)\n",
    "show(wcE2F1)"
   ]
  },
  {
   "cell_type": "code",
   "execution_count": 8,
   "metadata": {
    "collapsed": false
   },
   "outputs": [
    {
     "data": {
      "text/html": [
       "<html><script type=\"math/tex; mode=display\">\\newcommand{\\Bold}[1]{\\mathbf{#1}}\\frac{k_{\\mathit{CyclinD1}_{\\mathit{pRB}}}^{n_{\\mathit{CyclinD1}_{\\mathit{pRB}}}} x_{\\mathit{CyclinD}_{1}}^{n_{\\mathit{CyclinD1}_{\\mathit{CyclinD}_{1}}}} x_{\\mathit{E2F}_{1}}^{n_{\\mathit{CyclinD1}_{\\mathit{E2F}_{1}}}}}{k_{\\mathit{CyclinD1}_{\\mathit{CyclinD}_{1}}}^{n_{\\mathit{CyclinD1}_{\\mathit{CyclinD}_{1}}}} k_{\\mathit{CyclinD1}_{\\mathit{E2F}_{1}}}^{n_{\\mathit{CyclinD1}_{\\mathit{E2F}_{1}}}} k_{\\mathit{CyclinD1}_{\\mathit{pRB}}}^{n_{\\mathit{CyclinD1}_{\\mathit{pRB}}}} + k_{\\mathit{CyclinD1}_{\\mathit{E2F}_{1}}}^{n_{\\mathit{CyclinD1}_{\\mathit{E2F}_{1}}}} k_{\\mathit{CyclinD1}_{\\mathit{pRB}}}^{n_{\\mathit{CyclinD1}_{\\mathit{pRB}}}} x_{\\mathit{CyclinD}_{1}}^{n_{\\mathit{CyclinD1}_{\\mathit{CyclinD}_{1}}}} + {\\left(k_{\\mathit{CyclinD1}_{\\mathit{CyclinD}_{1}}}^{n_{\\mathit{CyclinD1}_{\\mathit{CyclinD}_{1}}}} k_{\\mathit{CyclinD1}_{\\mathit{pRB}}}^{n_{\\mathit{CyclinD1}_{\\mathit{pRB}}}} + k_{\\mathit{CyclinD1}_{\\mathit{pRB}}}^{n_{\\mathit{CyclinD1}_{\\mathit{pRB}}}} x_{\\mathit{CyclinD}_{1}}^{n_{\\mathit{CyclinD1}_{\\mathit{CyclinD}_{1}}}}\\right)} x_{\\mathit{E2F}_{1}}^{n_{\\mathit{CyclinD1}_{\\mathit{E2F}_{1}}}} + {\\left(k_{\\mathit{CyclinD1}_{\\mathit{CyclinD}_{1}}}^{n_{\\mathit{CyclinD1}_{\\mathit{CyclinD}_{1}}}} k_{\\mathit{CyclinD1}_{\\mathit{E2F}_{1}}}^{n_{\\mathit{CyclinD1}_{\\mathit{E2F}_{1}}}} + k_{\\mathit{CyclinD1}_{\\mathit{E2F}_{1}}}^{n_{\\mathit{CyclinD1}_{\\mathit{E2F}_{1}}}} x_{\\mathit{CyclinD}_{1}}^{n_{\\mathit{CyclinD1}_{\\mathit{CyclinD}_{1}}}} + {\\left(k_{\\mathit{CyclinD1}_{\\mathit{CyclinD}_{1}}}^{n_{\\mathit{CyclinD1}_{\\mathit{CyclinD}_{1}}}} + x_{\\mathit{CyclinD}_{1}}^{n_{\\mathit{CyclinD1}_{\\mathit{CyclinD}_{1}}}}\\right)} x_{\\mathit{E2F}_{1}}^{n_{\\mathit{CyclinD1}_{\\mathit{E2F}_{1}}}}\\right)} x_{\\mathit{pRB}}^{n_{\\mathit{CyclinD1}_{\\mathit{pRB}}}}} - x_{\\mathit{CyclinD}_{1}}</script></html>"
      ],
      "text/plain": [
       "k_CyclinD1_pRB^n_CyclinD1_pRB*x_CyclinD1^n_CyclinD1_CyclinD1*x_E2F1^n_CyclinD1_E2F1/(k_CyclinD1_CyclinD1^n_CyclinD1_CyclinD1*k_CyclinD1_E2F1^n_CyclinD1_E2F1*k_CyclinD1_pRB^n_CyclinD1_pRB + k_CyclinD1_E2F1^n_CyclinD1_E2F1*k_CyclinD1_pRB^n_CyclinD1_pRB*x_CyclinD1^n_CyclinD1_CyclinD1 + (k_CyclinD1_CyclinD1^n_CyclinD1_CyclinD1*k_CyclinD1_pRB^n_CyclinD1_pRB + k_CyclinD1_pRB^n_CyclinD1_pRB*x_CyclinD1^n_CyclinD1_CyclinD1)*x_E2F1^n_CyclinD1_E2F1 + (k_CyclinD1_CyclinD1^n_CyclinD1_CyclinD1*k_CyclinD1_E2F1^n_CyclinD1_E2F1 + k_CyclinD1_E2F1^n_CyclinD1_E2F1*x_CyclinD1^n_CyclinD1_CyclinD1 + (k_CyclinD1_CyclinD1^n_CyclinD1_CyclinD1 + x_CyclinD1^n_CyclinD1_CyclinD1)*x_E2F1^n_CyclinD1_E2F1)*x_pRB^n_CyclinD1_pRB) - x_CyclinD1"
      ]
     },
     "metadata": {},
     "output_type": "display_data"
    },
    {
     "data": {
      "text/html": [
       "<html><script type=\"math/tex; mode=display\">\\newcommand{\\Bold}[1]{\\mathbf{#1}}-x_{\\mathit{pRB}} + \\frac{k_{\\mathit{pRB}_{\\mathit{CyclinD}_{1}}}^{n_{\\mathit{pRB}_{\\mathit{CyclinD}_{1}}}}}{k_{\\mathit{pRB}_{\\mathit{CyclinD}_{1}}}^{n_{\\mathit{pRB}_{\\mathit{CyclinD}_{1}}}} + x_{\\mathit{CyclinD}_{1}}^{n_{\\mathit{pRB}_{\\mathit{CyclinD}_{1}}}}}</script></html>"
      ],
      "text/plain": [
       "-x_pRB + k_pRB_CyclinD1^n_pRB_CyclinD1/(k_pRB_CyclinD1^n_pRB_CyclinD1 + x_CyclinD1^n_pRB_CyclinD1)"
      ]
     },
     "metadata": {},
     "output_type": "display_data"
    },
    {
     "data": {
      "text/html": [
       "<html><script type=\"math/tex; mode=display\">\\newcommand{\\Bold}[1]{\\mathbf{#1}}\\frac{k_{\\mathit{E2F1}_{\\mathit{pRB}}}^{n_{\\mathit{E2F1}_{\\mathit{pRB}}}} x_{\\mathit{E2F}_{1}}^{n_{\\mathit{E2F1}_{\\mathit{E2F}_{1}}}}}{k_{\\mathit{E2F1}_{\\mathit{E2F}_{1}}}^{n_{\\mathit{E2F1}_{\\mathit{E2F}_{1}}}} k_{\\mathit{E2F1}_{\\mathit{pRB}}}^{n_{\\mathit{E2F1}_{\\mathit{pRB}}}} + k_{\\mathit{E2F1}_{\\mathit{pRB}}}^{n_{\\mathit{E2F1}_{\\mathit{pRB}}}} x_{\\mathit{E2F}_{1}}^{n_{\\mathit{E2F1}_{\\mathit{E2F}_{1}}}} + {\\left(k_{\\mathit{E2F1}_{\\mathit{E2F}_{1}}}^{n_{\\mathit{E2F1}_{\\mathit{E2F}_{1}}}} + x_{\\mathit{E2F}_{1}}^{n_{\\mathit{E2F1}_{\\mathit{E2F}_{1}}}}\\right)} x_{\\mathit{pRB}}^{n_{\\mathit{E2F1}_{\\mathit{pRB}}}}} - x_{\\mathit{E2F}_{1}}</script></html>"
      ],
      "text/plain": [
       "k_E2F1_pRB^n_E2F1_pRB*x_E2F1^n_E2F1_E2F1/(k_E2F1_E2F1^n_E2F1_E2F1*k_E2F1_pRB^n_E2F1_pRB + k_E2F1_pRB^n_E2F1_pRB*x_E2F1^n_E2F1_E2F1 + (k_E2F1_E2F1^n_E2F1_E2F1 + x_E2F1^n_E2F1_E2F1)*x_pRB^n_E2F1_pRB) - x_E2F1"
      ]
     },
     "metadata": {},
     "output_type": "display_data"
    }
   ],
   "source": [
    "# Simplify the system at steady state\n",
    "wcCycD=(wcCycD+x[\"CyclinD1\"]).simplify_rational()-x[\"CyclinD1\"]\n",
    "wcpRB=(wcpRB+x[\"pRB\"]).simplify_rational()-x[\"pRB\"]\n",
    "wcE2F1=(wcE2F1+x[\"E2F1\"]).simplify_rational()-x[\"E2F1\"]\n",
    "show(wcCycD)\n",
    "show(wcpRB)\n",
    "show(wcE2F1)"
   ]
  },
  {
   "cell_type": "code",
   "execution_count": 9,
   "metadata": {
    "collapsed": false
   },
   "outputs": [
    {
     "data": {
      "text/plain": [
       "TE"
      ]
     },
     "execution_count": 9,
     "metadata": {},
     "output_type": "execute_result"
    }
   ],
   "source": [
    "# Define a threshold variable; we will study CyclinD1 > TE\n",
    "var('TE')"
   ]
  },
  {
   "cell_type": "code",
   "execution_count": 10,
   "metadata": {
    "collapsed": true
   },
   "outputs": [],
   "source": [
    "TPRB=wcpRB.subs(x[\"CyclinD1\"]==TE).solve(x[\"pRB\"])[0].rhs()\n",
    "pE2F1=wcE2F1.subs(x[\"pRB\"]==TPRB)"
   ]
  },
  {
   "cell_type": "code",
   "execution_count": 11,
   "metadata": {
    "collapsed": false
   },
   "outputs": [
    {
     "data": {
      "text/html": [
       "<html><script type=\"math/tex; mode=display\">\\newcommand{\\Bold}[1]{\\mathbf{#1}}\\frac{k_{\\mathit{pRB}_{\\mathit{CyclinD}_{1}}}^{n_{\\mathit{pRB}_{\\mathit{CyclinD}_{1}}}}}{\\mathit{TE}^{n_{\\mathit{pRB}_{\\mathit{CyclinD}_{1}}}} + k_{\\mathit{pRB}_{\\mathit{CyclinD}_{1}}}^{n_{\\mathit{pRB}_{\\mathit{CyclinD}_{1}}}}}</script></html>"
      ],
      "text/plain": [
       "k_pRB_CyclinD1^n_pRB_CyclinD1/(TE^n_pRB_CyclinD1 + k_pRB_CyclinD1^n_pRB_CyclinD1)"
      ]
     },
     "metadata": {},
     "output_type": "display_data"
    },
    {
     "data": {
      "text/html": [
       "<html><script type=\"math/tex; mode=display\">\\newcommand{\\Bold}[1]{\\mathbf{#1}}\\frac{k_{\\mathit{E2F1}_{\\mathit{pRB}}}^{n_{\\mathit{E2F1}_{\\mathit{pRB}}}} x_{\\mathit{E2F}_{1}}^{n_{\\mathit{E2F1}_{\\mathit{E2F}_{1}}}}}{k_{\\mathit{E2F1}_{\\mathit{E2F}_{1}}}^{n_{\\mathit{E2F1}_{\\mathit{E2F}_{1}}}} k_{\\mathit{E2F1}_{\\mathit{pRB}}}^{n_{\\mathit{E2F1}_{\\mathit{pRB}}}} + k_{\\mathit{E2F1}_{\\mathit{pRB}}}^{n_{\\mathit{E2F1}_{\\mathit{pRB}}}} x_{\\mathit{E2F}_{1}}^{n_{\\mathit{E2F1}_{\\mathit{E2F}_{1}}}} + {\\left(k_{\\mathit{E2F1}_{\\mathit{E2F}_{1}}}^{n_{\\mathit{E2F1}_{\\mathit{E2F}_{1}}}} + x_{\\mathit{E2F}_{1}}^{n_{\\mathit{E2F1}_{\\mathit{E2F}_{1}}}}\\right)} \\left(\\frac{k_{\\mathit{pRB}_{\\mathit{CyclinD}_{1}}}^{n_{\\mathit{pRB}_{\\mathit{CyclinD}_{1}}}}}{\\mathit{TE}^{n_{\\mathit{pRB}_{\\mathit{CyclinD}_{1}}}} + k_{\\mathit{pRB}_{\\mathit{CyclinD}_{1}}}^{n_{\\mathit{pRB}_{\\mathit{CyclinD}_{1}}}}}\\right)^{n_{\\mathit{E2F1}_{\\mathit{pRB}}}}} - x_{\\mathit{E2F}_{1}}</script></html>"
      ],
      "text/plain": [
       "k_E2F1_pRB^n_E2F1_pRB*x_E2F1^n_E2F1_E2F1/(k_E2F1_E2F1^n_E2F1_E2F1*k_E2F1_pRB^n_E2F1_pRB + k_E2F1_pRB^n_E2F1_pRB*x_E2F1^n_E2F1_E2F1 + (k_E2F1_E2F1^n_E2F1_E2F1 + x_E2F1^n_E2F1_E2F1)*(k_pRB_CyclinD1^n_pRB_CyclinD1/(TE^n_pRB_CyclinD1 + k_pRB_CyclinD1^n_pRB_CyclinD1))^n_E2F1_pRB) - x_E2F1"
      ]
     },
     "metadata": {},
     "output_type": "display_data"
    }
   ],
   "source": [
    "# A functional stable motif is obtained when TPRB-TE=pE2F1=0 has a solution in (0,1)\n",
    "show(TPRB)\n",
    "show(pE2F1)"
   ]
  },
  {
   "cell_type": "code",
   "execution_count": 12,
   "metadata": {
    "collapsed": true
   },
   "outputs": [],
   "source": [
    "# Function to search for roots of f on an interval [a,b] with tolerance eps\n",
    "def find_all_roots(f, a, b, eps=0.001):\n",
    "    roots = []\n",
    "    intervals_to_check = [(a,b)]\n",
    "    while intervals_to_check:\n",
    "        start, end = intervals_to_check.pop()\n",
    "        try:\n",
    "            root = find_root(f, start, end)\n",
    "        except RuntimeError:\n",
    "            continue\n",
    "        if root in roots:\n",
    "            continue\n",
    "        if abs(f(root)) < 1:\n",
    "            roots.append(root)\n",
    "        intervals_to_check.extend([(start, root-eps), (root+eps, end)])\n",
    "    roots.sort()\n",
    "    return roots\n",
    "\n",
    "# Find the midpoint of the line segment connecting (x1,y1) to (x2,y2)\n",
    "def linInterpRoot(x1,x2,y1,y2):\n",
    "    m = (y2-y1)/(x2-x1)\n",
    "    b = y1-x1*m\n",
    "    x0 = -b/m\n",
    "    return x0\n",
    "\n",
    "# Function to check if a given root of TPRB-TE allows a solution to pE2F1=0\n",
    "# Note: lack of roots returned does not mean no roots anywhere, just between 0.5 an 1\n",
    "def testTE( tval, adict, lowroot, highroot, eps ):\n",
    "    kappaTE = []\n",
    "    rlist = find_all_roots( pE2F1.subs(adict).subs(TE==tval), lowroot, highroot, eps)\n",
    "    for r in rlist:\n",
    "        if r == 0: continue\n",
    "        # Dt(CycE) + CycE is val that CycE takes, then subtract off CycE again and compare to zero\n",
    "        kappaTE.append( (r,wcCycD.subs(x[\"pRB\"]==TPRB,x[\"E2F1\"]==r,x[\"CyclinD1\"]==TE).subs(adict).subs(TE==tval)) )\n",
    "    return kappaTE\n",
    "    \n",
    "# Class to store parameter sets and test them for functionality    \n",
    "class SMRoot:\n",
    "    Nscan = 20\n",
    "    tscan = [i/Nscan for i in range(1,Nscan+1)]\n",
    "    lowroot = 0.499\n",
    "    highroot = 1\n",
    "    eps = 0.001\n",
    "\n",
    "    def __init__(self,paramDict):\n",
    "        self.paramDict=paramDict\n",
    "        self.maxRootDict = {}\n",
    "        self.tested = False\n",
    "        \n",
    "    def buildMaxRoot(self):\n",
    "        kappaOld = None\n",
    "        tOld = SMRoot.tscan[0]\n",
    "        for t in SMRoot.tscan:\n",
    "            kappaTE = testTE( t, self.paramDict, SMRoot.lowroot, SMRoot.highroot, SMRoot.eps )\n",
    "            \n",
    "            if len(kappaTE) > 0:\n",
    "                kappaTE = max(kappaTE,key=lambda xx: xx[0])\n",
    "            else:\n",
    "                kappaOld = None\n",
    "                tOld = t\n",
    "                continue\n",
    "\n",
    "            # because we scan forwards, we only ever overwrite with bigger roots\n",
    "            if kappaOld != None and (bool(kappaOld < 0) !=  bool(kappaTE[1] < 0)):\n",
    "                TERoot = linInterpRoot(tOld,t,kappaOld, kappaTE[1])\n",
    "                self.maxRootDict = {\"CyclinD1\":TERoot,\n",
    "                 \"pRB\":TPRB.subs(self.paramDict).subs(TE=TERoot),\n",
    "                 \"E2F1\":kappaTE[0]}\n",
    "            kappaOld = kappaTE[1] \n",
    "       \n",
    "        self.tested = True"
   ]
  },
  {
   "cell_type": "code",
   "execution_count": 13,
   "metadata": {
    "collapsed": false
   },
   "outputs": [],
   "source": [
    "# Read unspecified parameters and build a function to randomly generate values for them\n",
    "kargs = []\n",
    "nargs = []\n",
    "for v in pE2F1.args() + wcCycD.args():\n",
    "    if str(v)[0]==\"k\":\n",
    "        kargs.append(v)\n",
    "    if str(v)[0]==\"n\":\n",
    "        nargs.append(v)\n",
    "\n",
    "kargs = list(set(kargs))\n",
    "nargs = list(set(nargs))\n",
    "nkargs = nargs + kargs\n",
    "   \n",
    "\n",
    "def genRandomParams(seed = None, scale = \"Log\", nValBounds = (1,8),kValBounds = (1/16,15/16)):\n",
    "    rn.seed(seed)\n",
    "    \n",
    "    # sample low values exponentially more often than high values (uniform in log-space); otherwise, uniform in linear-space\n",
    "    if scale == \"Log\":\n",
    "        nvals = [-ln(xx) for xx in rn.uniform(exp(-nValBounds[0]),exp(-nValBounds[1]),len(nargs))]\n",
    "        kvals = [-ln(xx) for xx in rn.uniform(exp(-kValBounds[0]),exp(-kValBounds[1]),len(kargs))]\n",
    "    else:\n",
    "        nvals = [xx for xx in rn.uniform(nValBounds[0],nValBounds[1],len(nargs))]\n",
    "        kvals = [xx for xx in rn.uniform(kValBounds[0],kValBounds[1],len(kargs))]\n",
    "        \n",
    "    nkvals = nvals + kvals\n",
    "    return {nkargs[i]:nkvals[i] for i in range(len(nkvals))}"
   ]
  },
  {
   "cell_type": "code",
   "execution_count": 20,
   "metadata": {
    "collapsed": false
   },
   "outputs": [
    {
     "name": "stderr",
     "output_type": "stream",
     "text": [
      "/usr/lib/sagemath/local/lib/python2.7/site-packages/sage/repl/ipython_kernel/__main__.py:27: DeprecationWarning: Substitution using function-call syntax and unnamed arguments is deprecated and will be removed from a future release of Sage; you can use named arguments instead, like EXPR(x=..., y=...)\n",
      "See http://trac.sagemath.org/5930 for details.\n"
     ]
    }
   ],
   "source": [
    "# Test functionality for NSamples parameter sets for this candidate motif\n",
    "NSamples = 10000\n",
    "\n",
    "SM = []\n",
    "NSM = []\n",
    "strongSM = []\n",
    "for i in range(NSamples):\n",
    "    testDict=genRandomParams(seed=i,scale=\"Lin\")\n",
    "    testRoot = SMRoot(testDict)\n",
    "    testRoot.buildMaxRoot()\n",
    "    if len(testRoot.maxRootDict.keys()) > 0:\n",
    "        SM.append(testRoot)\n",
    "        r = testRoot.maxRootDict\n",
    "        if r[\"pRB\"] < 0.5 and r[\"CyclinD1\"] > 0.5 and r[\"E2F1\"] > 0.5:\n",
    "            strongSM.append(testRoot)\n",
    "    else:\n",
    "        NSM.append(testRoot)\n"
   ]
  },
  {
   "cell_type": "code",
   "execution_count": 21,
   "metadata": {
    "collapsed": true
   },
   "outputs": [],
   "source": [
    "# Save the simulation output\n",
    "save(SM,'SM2')\n",
    "save(strongSM,'strongSM2')\n",
    "save(NSM,'NSM2')"
   ]
  },
  {
   "cell_type": "code",
   "execution_count": 14,
   "metadata": {
    "collapsed": false
   },
   "outputs": [],
   "source": [
    "# Load simulation output if it already exists\n",
    "NSM = load('./NSM2.sobj')\n",
    "SM = load('./SM2.sobj')\n",
    "strongSM = load('./strongSM2.sobj')"
   ]
  },
  {
   "cell_type": "code",
   "execution_count": 15,
   "metadata": {
    "collapsed": false
   },
   "outputs": [
    {
     "name": "stdout",
     "output_type": "stream",
     "text": [
      "0.1551\n",
      "0.718246292714\n",
      "0.1114\n"
     ]
    }
   ],
   "source": [
    "# Basic statistics\n",
    "print(float(len(SM))/(len(NSM) + len(SM)))\n",
    "print(float(len(strongSM))/(len(SM)))\n",
    "print(float(len(strongSM))/(len(NSM) + len(SM)))"
   ]
  }
 ],
 "metadata": {
  "kernelspec": {
   "display_name": "SageMath 7.5.1",
   "language": "",
   "name": "sagemath"
  },
  "language_info": {
   "codemirror_mode": {
    "name": "ipython",
    "version": 2
   },
   "file_extension": ".py",
   "mimetype": "text/x-python",
   "name": "python",
   "nbconvert_exporter": "python",
   "pygments_lexer": "ipython2",
   "version": "2.7.13"
  }
 },
 "nbformat": 4,
 "nbformat_minor": 0
}
